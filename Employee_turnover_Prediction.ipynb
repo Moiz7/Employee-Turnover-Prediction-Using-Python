{
  "nbformat": 4,
  "nbformat_minor": 0,
  "metadata": {
    "colab": {
      "name": "Employee turnover Prediction.ipynb",
      "provenance": [],
      "collapsed_sections": []
    },
    "kernelspec": {
      "name": "python3",
      "display_name": "Python 3"
    }
  },
  "cells": [
    {
      "cell_type": "markdown",
      "metadata": {
        "id": "XXT5Bv6AbZ7q"
      },
      "source": [
        "**DATA EXPLORATION**"
      ]
    },
    {
      "cell_type": "code",
      "metadata": {
        "id": "ZPPsGV3J3DwD",
        "outputId": "d58fb044-3899-4fe4-e2da-e751e9d65cbb",
        "colab": {
          "base_uri": "https://localhost:8080/"
        }
      },
      "source": [
        "import pandas as pd\n",
        "\n",
        "data=pd.read_csv(\"/content/HR_comma_sep.csv\")\n",
        "print(data.info())\n",
        "print(data)"
      ],
      "execution_count": 1,
      "outputs": [
        {
          "output_type": "stream",
          "text": [
            "<class 'pandas.core.frame.DataFrame'>\n",
            "RangeIndex: 14999 entries, 0 to 14998\n",
            "Data columns (total 10 columns):\n",
            " #   Column                 Non-Null Count  Dtype  \n",
            "---  ------                 --------------  -----  \n",
            " 0   satisfaction_level     14999 non-null  float64\n",
            " 1   last_evaluation        14999 non-null  float64\n",
            " 2   number_project         14999 non-null  int64  \n",
            " 3   average_montly_hours   14999 non-null  int64  \n",
            " 4   time_spend_company     14999 non-null  int64  \n",
            " 5   Work_accident          14999 non-null  int64  \n",
            " 6   left                   14999 non-null  int64  \n",
            " 7   promotion_last_5years  14999 non-null  int64  \n",
            " 8   Department             14999 non-null  object \n",
            " 9   salary                 14999 non-null  object \n",
            "dtypes: float64(2), int64(6), object(2)\n",
            "memory usage: 1.1+ MB\n",
            "None\n",
            "       satisfaction_level  last_evaluation  ...  Department  salary\n",
            "0                    0.38             0.53  ...       sales     low\n",
            "1                    0.80             0.86  ...       sales  medium\n",
            "2                    0.11             0.88  ...       sales  medium\n",
            "3                    0.72             0.87  ...       sales     low\n",
            "4                    0.37             0.52  ...       sales     low\n",
            "...                   ...              ...  ...         ...     ...\n",
            "14994                0.40             0.57  ...     support     low\n",
            "14995                0.37             0.48  ...     support     low\n",
            "14996                0.37             0.53  ...     support     low\n",
            "14997                0.11             0.96  ...     support     low\n",
            "14998                0.37             0.52  ...     support     low\n",
            "\n",
            "[14999 rows x 10 columns]\n"
          ],
          "name": "stdout"
        }
      ]
    },
    {
      "cell_type": "markdown",
      "metadata": {
        "id": "t3GVZ0cjk5wf"
      },
      "source": [
        "Only department and salaries have the type object. It is recommended to convert these to numbers as it would make applying the ML algorithm easier."
      ]
    },
    {
      "cell_type": "code",
      "metadata": {
        "id": "qRhC-HwNeP0-"
      },
      "source": [
        "#changing the datatype of salaries to category\n",
        "data[\"salary\"]=data[\"salary\"].astype('category')\n",
        "#re ordering salaries\n",
        "data[\"salary\"] = data[\"salary\"].cat.reorder_categories(['low', 'medium', 'high'])\n",
        "# Remapping categories with integer values\n",
        "data[\"salary\"] = data[\"salary\"].cat.codes\n",
        "\n"
      ],
      "execution_count": 2,
      "outputs": []
    },
    {
      "cell_type": "code",
      "metadata": {
        "id": "obHx-68nfqT_",
        "outputId": "33974c2e-b315-4e0d-9875-2f9642ae1e4f",
        "colab": {
          "base_uri": "https://localhost:8080/"
        }
      },
      "source": [
        "print(data[\"salary\"])"
      ],
      "execution_count": 5,
      "outputs": [
        {
          "output_type": "stream",
          "text": [
            "0        0\n",
            "1        1\n",
            "2        1\n",
            "3        0\n",
            "4        0\n",
            "        ..\n",
            "14994    0\n",
            "14995    0\n",
            "14996    0\n",
            "14997    0\n",
            "14998    0\n",
            "Name: salary, Length: 14999, dtype: category\n",
            "Categories (3, int64): [0, 1, 2]\n"
          ],
          "name": "stdout"
        }
      ]
    },
    {
      "cell_type": "code",
      "metadata": {
        "id": "NiBRxBwPgOmI",
        "outputId": "3183869a-3984-4eee-d33c-2edc7d0517eb",
        "colab": {
          "base_uri": "https://localhost:8080/"
        }
      },
      "source": [
        "# Getting dummies and save them inside a new DataFrame\n",
        "departments = pd.get_dummies(data[\"Department\"])\n",
        "#Dropping technical to avoid dummy trap\n",
        "departments = departments.drop(\"technical\", axis = 1)\n",
        "# Dropping the old column \"department\" as you don't need it anymore\n",
        "data = data.drop(\"Department\", axis=1)\n",
        "# Joining the new dataframe \"departments\" to your employee dataset: done\n",
        "data = data.join(departments)\n",
        "print(departments)"
      ],
      "execution_count": 3,
      "outputs": [
        {
          "output_type": "stream",
          "text": [
            "       IT  RandD  accounting  hr  ...  marketing  product_mng  sales  support\n",
            "0       0      0           0   0  ...          0            0      1        0\n",
            "1       0      0           0   0  ...          0            0      1        0\n",
            "2       0      0           0   0  ...          0            0      1        0\n",
            "3       0      0           0   0  ...          0            0      1        0\n",
            "4       0      0           0   0  ...          0            0      1        0\n",
            "...    ..    ...         ...  ..  ...        ...          ...    ...      ...\n",
            "14994   0      0           0   0  ...          0            0      0        1\n",
            "14995   0      0           0   0  ...          0            0      0        1\n",
            "14996   0      0           0   0  ...          0            0      0        1\n",
            "14997   0      0           0   0  ...          0            0      0        1\n",
            "14998   0      0           0   0  ...          0            0      0        1\n",
            "\n",
            "[14999 rows x 9 columns]\n"
          ],
          "name": "stdout"
        }
      ]
    },
    {
      "cell_type": "code",
      "metadata": {
        "id": "eOyNvKjgirBN",
        "outputId": "c667c599-a9b8-4f00-a565-0135446add2c",
        "colab": {
          "base_uri": "https://localhost:8080/"
        }
      },
      "source": [
        "print(data[\"Department\"].value_counts())"
      ],
      "execution_count": 10,
      "outputs": [
        {
          "output_type": "stream",
          "text": [
            "sales          4140\n",
            "technical      2720\n",
            "support        2229\n",
            "IT             1227\n",
            "product_mng     902\n",
            "marketing       858\n",
            "RandD           787\n",
            "accounting      767\n",
            "hr              739\n",
            "management      630\n",
            "Name: Department, dtype: int64\n"
          ],
          "name": "stdout"
        }
      ]
    },
    {
      "cell_type": "code",
      "metadata": {
        "id": "EvSR_EGohVqm",
        "outputId": "4d61930f-2578-45a6-e7ab-a0bbfa754ce7",
        "colab": {
          "base_uri": "https://localhost:8080/"
        }
      },
      "source": [
        "data.rename(columns = {'left':'churn'}, inplace = True)\n",
        "employees_total = len(data)\n",
        "# Printing the number of employees who left/stayed\n",
        "print(data[\"churn\"].value_counts())\n",
        "# Printing the percentage of employees who left/stayed\n",
        "print(data[\"churn\"].value_counts()/employees_total*100)"
      ],
      "execution_count": 4,
      "outputs": [
        {
          "output_type": "stream",
          "text": [
            "0    11428\n",
            "1     3571\n",
            "Name: churn, dtype: int64\n",
            "0    76.191746\n",
            "1    23.808254\n",
            "Name: churn, dtype: float64\n"
          ],
          "name": "stdout"
        }
      ]
    },
    {
      "cell_type": "markdown",
      "metadata": {
        "id": "WEMK0Z6nlM1H"
      },
      "source": [
        "It is visible from the dataset that 76% of the employees stayed while 23% left (churned). However this seems like an uneven distribution of results which I will address later."
      ]
    },
    {
      "cell_type": "code",
      "metadata": {
        "id": "aFuDlysBi4ZH",
        "outputId": "46687e16-24f3-4399-d8a1-035f3fdc0589",
        "colab": {
          "base_uri": "https://localhost:8080/",
          "height": 373
        }
      },
      "source": [
        "import matplotlib.pyplot as plt\n",
        "import seaborn as sns\n",
        "corr_matrix = data.corr()\n",
        "sns.heatmap(corr_matrix,annot=True)\n",
        "plt.show()"
      ],
      "execution_count": 12,
      "outputs": [
        {
          "output_type": "display_data",
          "data": {
            "image/png": "[encoded data removed]",
            "text/plain": [
              "<Figure size 432x288 with 2 Axes>"
            ]
          },
          "metadata": {
            "tags": [],
            "needs_background": "light"
          }
        }
      ]
    },
    {
      "cell_type": "markdown",
      "metadata": {
        "id": "gspLhc_6kXpi"
      },
      "source": [
        "**OBSERVATION:** It is visible from that following heatmap that churn has a very strong negative correlation with the satisfaction_level and the strongest positive correlation with the time spent in the company."
      ]
    },
    {
      "cell_type": "markdown",
      "metadata": {
        "id": "AqrIoIQ5mGDk"
      },
      "source": [
        "**PREDICTIONS**"
      ]
    },
    {
      "cell_type": "code",
      "metadata": {
        "id": "kV6zGwFXrzly",
        "outputId": "35bd0710-c9f6-455b-ebf3-e563673f1a6f",
        "colab": {
          "base_uri": "https://localhost:8080/"
        }
      },
      "source": [
        "pip install sklearn"
      ],
      "execution_count": 20,
      "outputs": [
        {
          "output_type": "stream",
          "text": [
            "Requirement already satisfied: sklearn in /usr/local/lib/python3.6/dist-packages (0.0)\n",
            "Requirement already satisfied: scikit-learn in /usr/local/lib/python3.6/dist-packages (from sklearn) (0.23.2)\n",
            "Requirement already satisfied: numpy>=1.13.3 in /usr/local/lib/python3.6/dist-packages (from scikit-learn->sklearn) (1.18.5)\n",
            "Requirement already satisfied: joblib>=0.11 in /usr/local/lib/python3.6/dist-packages (from scikit-learn->sklearn) (0.17.0)\n",
            "Requirement already satisfied: scipy>=0.19.1 in /usr/local/lib/python3.6/dist-packages (from scikit-learn->sklearn) (1.4.1)\n",
            "Requirement already satisfied: threadpoolctl>=2.0.0 in /usr/local/lib/python3.6/dist-packages (from scikit-learn->sklearn) (2.1.0)\n"
          ],
          "name": "stdout"
        }
      ]
    },
    {
      "cell_type": "code",
      "metadata": {
        "id": "YvmFqNIMkw0X"
      },
      "source": [
        "import sklearn as sk\n",
        "from sklearn.model_selection import train_test_split\n",
        "\n",
        "# Choose the dependent variable column (churn) and set it as target\n",
        "target = data['churn']\n",
        "\n",
        "# Drop column churn and set everything else as features\n",
        "features = data.drop(\"churn\",axis=1)\n",
        "target_train, target_test, features_train, features_test = train_test_split(target,features,test_size=0.25)"
      ],
      "execution_count": 5,
      "outputs": []
    },
    {
      "cell_type": "code",
      "metadata": {
        "id": "NGibpV35su5n"
      },
      "source": [
        "import pandas as pd\n",
        "import pydotplus #pip install pydotplus\n",
        "from sklearn.tree import export_graphviz\n",
        "from sklearn.tree import DecisionTreeClassifier\n",
        "import numpy as np"
      ],
      "execution_count": 6,
      "outputs": []
    },
    {
      "cell_type": "markdown",
      "metadata": {
        "id": "Z1IO1IAqKXhY"
      },
      "source": [
        "Using decision Trees can also quantify the effect of the different features on the target. Here, it can tell you which features have the strongest and weakest impacts on the decision to leave the company which I will demonstrate later in this workbook."
      ]
    },
    {
      "cell_type": "code",
      "metadata": {
        "id": "liBGuIfNqRG7",
        "outputId": "6854d27b-3952-4972-9391-1ab641e411db",
        "colab": {
          "base_uri": "https://localhost:8080/"
        }
      },
      "source": [
        "model = DecisionTreeClassifier(random_state=42)\n",
        "model.fit(features_train,target_train)\n",
        "model.score(features_test,target_test)*100\n"
      ],
      "execution_count": 9,
      "outputs": [
        {
          "output_type": "execute_result",
          "data": {
            "text/plain": [
              "97.81333333333333"
            ]
          },
          "metadata": {
            "tags": []
          },
          "execution_count": 9
        }
      ]
    },
    {
      "cell_type": "markdown",
      "metadata": {
        "id": "BhAyTo1h5rcp"
      },
      "source": [
        "So on the testing set, the algorithm can accurately predict if the employee would leave or not 97.33% of the time."
      ]
    },
    {
      "cell_type": "code",
      "metadata": {
        "id": "Uq-bG5H955yU"
      },
      "source": [
        "export_graphviz(model,\"tree.dot\")"
      ],
      "execution_count": 10,
      "outputs": []
    },
    {
      "cell_type": "markdown",
      "metadata": {
        "id": "yw4wmmUG9O-v"
      },
      "source": [
        "![decision tree sample.PNG](data:image/png;base64,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)"
      ]
    },
    {
      "cell_type": "markdown",
      "metadata": {
        "id": "LcAG3FAv9WrL"
      },
      "source": [
        "My decision tree looks something like this. Decreasing gini down the tree shows that the objective is achieved."
      ]
    },
    {
      "cell_type": "code",
      "metadata": {
        "id": "7QLXpkg99pAj",
        "outputId": "0955c01c-1361-49e8-d00b-e532592b241b",
        "colab": {
          "base_uri": "https://localhost:8080/"
        }
      },
      "source": [
        "model.score(features_train,target_train)*100"
      ],
      "execution_count": 12,
      "outputs": [
        {
          "output_type": "execute_result",
          "data": {
            "text/plain": [
              "100.0"
            ]
          },
          "metadata": {
            "tags": []
          },
          "execution_count": 12
        }
      ]
    },
    {
      "cell_type": "markdown",
      "metadata": {
        "id": "9aH6CuOr9zYL"
      },
      "source": [
        "**TUNING**\n",
        "\n",
        "100% accuracy on the training data and 97% on the test data shows that the model is overfitting. So time to tune the classfier."
      ]
    },
    {
      "cell_type": "code",
      "metadata": {
        "id": "5Zsutwy1-FjO",
        "outputId": "818bf358-6b5c-41d9-831d-035988fc4d93",
        "colab": {
          "base_uri": "https://localhost:8080/"
        }
      },
      "source": [
        "model_depth_5 = DecisionTreeClassifier(max_depth=5, random_state=42)\n",
        "# Fit the model\n",
        "model_depth_5.fit(features_train,target_train)\n",
        "\n",
        "# Print the accuracy of the prediction for the training set\n",
        "print(model_depth_5.score(features_train,target_train)*100)\n",
        "\n",
        "# Print the accuracy of the prediction for the test set\n",
        "print(model_depth_5.score(features_test,target_test)*100)"
      ],
      "execution_count": 14,
      "outputs": [
        {
          "output_type": "stream",
          "text": [
            "97.55533825228909\n",
            "97.57333333333334\n"
          ],
          "name": "stdout"
        }
      ]
    },
    {
      "cell_type": "markdown",
      "metadata": {
        "id": "IlUcCpS9--Cp"
      },
      "source": [
        "Limiting the depth of the decision tree to reduce overfitting has worked as both the training and test data are now 97% accurate."
      ]
    },
    {
      "cell_type": "code",
      "metadata": {
        "id": "Na0KZSL__TZu",
        "outputId": "a5ada87c-fb33-45b0-bff6-c10e3bde0f50",
        "colab": {
          "base_uri": "https://localhost:8080/"
        }
      },
      "source": [
        "model_depth_6 = DecisionTreeClassifier(max_depth=6, random_state=42)\n",
        "# Fit the model\n",
        "model_depth_6.fit(features_train,target_train)\n",
        "\n",
        "# Print the accuracy of the prediction for the training set\n",
        "print(model_depth_6.score(features_train,target_train)*100)\n",
        "\n",
        "# Print the accuracy of the prediction for the test set\n",
        "print(model_depth_6.score(features_test,target_test)*100)"
      ],
      "execution_count": 15,
      "outputs": [
        {
          "output_type": "stream",
          "text": [
            "97.86647702017957\n",
            "97.81333333333333\n"
          ],
          "name": "stdout"
        }
      ]
    },
    {
      "cell_type": "markdown",
      "metadata": {
        "id": "vYAgI92m_drG"
      },
      "source": [
        "Better results with depth as 6."
      ]
    },
    {
      "cell_type": "code",
      "metadata": {
        "id": "wKks8Aa-FRWL",
        "outputId": "15effe79-aeb5-4aed-d54e-8fd7be58497f",
        "colab": {
          "base_uri": "https://localhost:8080/"
        }
      },
      "source": [
        "model_depth_7 = DecisionTreeClassifier(max_depth=7, random_state=42)\n",
        "# Fit the model\n",
        "model_depth_7.fit(features_train,target_train)\n",
        "\n",
        "# Print the accuracy of the prediction for the training set\n",
        "print(model_depth_7.score(features_train,target_train)*100)\n",
        "\n",
        "# Print the accuracy of the prediction for the test set\n",
        "print(model_depth_7.score(features_test,target_test)*100)"
      ],
      "execution_count": 26,
      "outputs": [
        {
          "output_type": "stream",
          "text": [
            "98.11538803449196\n",
            "97.81333333333333\n"
          ],
          "name": "stdout"
        }
      ]
    },
    {
      "cell_type": "markdown",
      "metadata": {
        "id": "8AG1qPnZFc7f"
      },
      "source": [
        "Best results with depth 7."
      ]
    },
    {
      "cell_type": "code",
      "metadata": {
        "id": "AfrIKTP8AR9-",
        "outputId": "1ee57ecf-21b9-4e7a-d30c-64be7d11a458",
        "colab": {
          "base_uri": "https://localhost:8080/"
        }
      },
      "source": [
        "# Initializing the DecisionTreeClassifier while limiting the sample size in leaves to 100\n",
        "model_sample_100 = DecisionTreeClassifier(min_samples_leaf=100, random_state=42)\n",
        "\n",
        "# Fitting the model\n",
        "model_sample_100.fit(features_train,target_train)\n",
        "\n",
        "# Printing the accuracy of the prediction (in percentage points) for the training set\n",
        "print(model_sample_100.score(features_train,target_train)*100)\n",
        "\n",
        "# Printing the accuracy of the prediction (in percentage points) for the test set\n",
        "print(model_sample_100.score(features_test,target_test)*100)"
      ],
      "execution_count": 16,
      "outputs": [
        {
          "output_type": "stream",
          "text": [
            "96.49746644146147\n",
            "96.48\n"
          ],
          "name": "stdout"
        }
      ]
    },
    {
      "cell_type": "markdown",
      "metadata": {
        "id": "YCnlPJl2Ae_V"
      },
      "source": [
        "Comparitvely ower accuracies with this. But only accuracies are not enough. Time to try some more metrics."
      ]
    },
    {
      "cell_type": "code",
      "metadata": {
        "id": "sSdKDYs8B4yn",
        "outputId": "5ac45fb0-af66-4649-81ba-14ee8c741117",
        "colab": {
          "base_uri": "https://localhost:8080/"
        }
      },
      "source": [
        "# Import the function to calculate precision score\n",
        "from sklearn.metrics import precision_score\n",
        "\n",
        "# Predict whether employees will churn using the test set\n",
        "prediction = model.predict(features_test)\n",
        "\n",
        "# Calculate precision score by comparing target_test with the prediction\n",
        "precision_score(target_test, prediction)"
      ],
      "execution_count": 17,
      "outputs": [
        {
          "output_type": "execute_result",
          "data": {
            "text/plain": [
              "0.9360780065005417"
            ]
          },
          "metadata": {
            "tags": []
          },
          "execution_count": 17
        }
      ]
    },
    {
      "cell_type": "markdown",
      "metadata": {
        "id": "Lb7Q0YRLCJdo"
      },
      "source": [
        "93% of the churn predictions of the orignial model were correct."
      ]
    },
    {
      "cell_type": "code",
      "metadata": {
        "id": "Dd5pU2bdCBRR",
        "outputId": "50ec1a6c-1f51-4c9a-d0ae-0e5ab5bc99b5",
        "colab": {
          "base_uri": "https://localhost:8080/"
        }
      },
      "source": [
        "# Import the function to calculate precision score\n",
        "from sklearn.metrics import precision_score\n",
        "\n",
        "# Predict whether employees will churn using the test set\n",
        "prediction = model_depth_6.predict(features_test)\n",
        "\n",
        "# Calculate precision score by comparing target_test with the prediction\n",
        "precision_score(target_test, prediction)"
      ],
      "execution_count": 28,
      "outputs": [
        {
          "output_type": "execute_result",
          "data": {
            "text/plain": [
              "0.9797377830750894"
            ]
          },
          "metadata": {
            "tags": []
          },
          "execution_count": 28
        }
      ]
    },
    {
      "cell_type": "markdown",
      "metadata": {
        "id": "DlXfrgfUCRbf"
      },
      "source": [
        "97.9% of the churn predictions of the tuned model (with depth=6) were correct."
      ]
    },
    {
      "cell_type": "code",
      "metadata": {
        "id": "s-MDGBWCBfPA",
        "outputId": "a2937677-b201-4894-bf9d-b81f3e158fa1",
        "colab": {
          "base_uri": "https://localhost:8080/"
        }
      },
      "source": [
        "# Import the function to calculate ROC/AUC score\n",
        "from sklearn.metrics import roc_auc_score\n",
        "\n",
        "# Use initial model to predict churn (based on features_test)\n",
        "prediction = model.predict(features_test)\n",
        "\n",
        "# Calculate ROC/AUC score by comparing target_test with the prediction\n",
        "roc_auc_score(target_test, prediction)"
      ],
      "execution_count": 19,
      "outputs": [
        {
          "output_type": "execute_result",
          "data": {
            "text/plain": [
              "0.9767310722151494"
            ]
          },
          "metadata": {
            "tags": []
          },
          "execution_count": 19
        }
      ]
    },
    {
      "cell_type": "markdown",
      "metadata": {
        "id": "c_grolIqDU2V"
      },
      "source": [
        "97.6% of the churn predictions about both stayers and leavers on the original model were correct."
      ]
    },
    {
      "cell_type": "code",
      "metadata": {
        "id": "vUFj-gd-HAYj",
        "outputId": "58939453-2a63-4d06-8276-68e2a498001d",
        "colab": {
          "base_uri": "https://localhost:8080/"
        }
      },
      "source": [
        "# Import the function to calculate ROC/AUC score\n",
        "from sklearn.metrics import roc_auc_score\n",
        "\n",
        "# Use initial model to predict churn (based on features_test)\n",
        "prediction = model_depth_6.predict(features_test)\n",
        "\n",
        "# Calculate ROC/AUC score by comparing target_test with the prediction\n",
        "roc_auc_score(target_test, prediction)"
      ],
      "execution_count": 35,
      "outputs": [
        {
          "output_type": "execute_result",
          "data": {
            "text/plain": [
              "0.9603907255065112"
            ]
          },
          "metadata": {
            "tags": []
          },
          "execution_count": 35
        }
      ]
    },
    {
      "cell_type": "code",
      "metadata": {
        "id": "b97T_YWWDb4d",
        "outputId": "ef6fccfe-7d23-4cc2-c792-c7f2ed85ea2f",
        "colab": {
          "base_uri": "https://localhost:8080/"
        }
      },
      "source": [
        "# Import the function to calculate ROC/AUC score\n",
        "from sklearn.metrics import roc_auc_score\n",
        "\n",
        "# Use initial model to predict churn (based on features_test)\n",
        "prediction = model_depth_7.predict(features_test)\n",
        "\n",
        "# Calculate ROC/AUC score by comparing target_test with the prediction\n",
        "roc_auc_score(target_test, prediction)"
      ],
      "execution_count": 31,
      "outputs": [
        {
          "output_type": "execute_result",
          "data": {
            "text/plain": [
              "0.9627250607506022"
            ]
          },
          "metadata": {
            "tags": []
          },
          "execution_count": 31
        }
      ]
    },
    {
      "cell_type": "markdown",
      "metadata": {
        "id": "-m7LmtsgDoqP"
      },
      "source": [
        "96.2% of the churn predictions about both stayers and leavers on the tuned model were correct. Now to address the class imbalance b/w the training and test sets as discussed earlier."
      ]
    },
    {
      "cell_type": "code",
      "metadata": {
        "id": "lJVBG2vDD1sM",
        "outputId": "7d562186-6acb-4903-dc48-2e74cb886dd3",
        "colab": {
          "base_uri": "https://localhost:8080/"
        }
      },
      "source": [
        "# Initialize the DecisionTreeClassifier \n",
        "model_depth_6_b = DecisionTreeClassifier(max_depth=6,class_weight=\"balanced\",random_state=42)\n",
        "\n",
        "# Fit the model\n",
        "model_depth_6_b.fit(features_train,target_train)\n",
        "\n",
        "# Print the accuracy of the prediction (in percentage points) for the test set\n",
        "print(model_depth_6_b.score(features_test,target_test)*100)"
      ],
      "execution_count": 23,
      "outputs": [
        {
          "output_type": "stream",
          "text": [
            "93.94666666666667\n"
          ],
          "name": "stdout"
        }
      ]
    },
    {
      "cell_type": "code",
      "metadata": {
        "id": "ml5-3uz9E1qK",
        "outputId": "625cc576-35fa-4cd2-cc01-0562f872f0ce",
        "colab": {
          "base_uri": "https://localhost:8080/"
        }
      },
      "source": [
        "# Initialize the DecisionTreeClassifier \n",
        "model_depth_5_b = DecisionTreeClassifier(max_depth=5,class_weight=\"balanced\",random_state=42)\n",
        "\n",
        "# Fit the model\n",
        "model_depth_5_b.fit(features_train,target_train)\n",
        "\n",
        "# Print the accuracy of the prediction (in percentage points) for the test set\n",
        "print(model_depth_5_b.score(features_test,target_test)*100)"
      ],
      "execution_count": 24,
      "outputs": [
        {
          "output_type": "stream",
          "text": [
            "94.50666666666667\n"
          ],
          "name": "stdout"
        }
      ]
    },
    {
      "cell_type": "code",
      "metadata": {
        "id": "nQDjeCb1FDmL",
        "outputId": "7a527817-eb83-44d9-d14e-a1fed95de8ec",
        "colab": {
          "base_uri": "https://localhost:8080/"
        }
      },
      "source": [
        "# Initialize the DecisionTreeClassifier \n",
        "model_depth_7_b = DecisionTreeClassifier(max_depth=7,class_weight=\"balanced\",random_state=42)\n",
        "\n",
        "# Fit the model\n",
        "model_depth_7_b.fit(features_train,target_train)\n",
        "\n",
        "# Print the accuracy of the prediction (in percentage points) for the test set\n",
        "print(model_depth_7_b.score(features_test,target_test)*100)"
      ],
      "execution_count": 25,
      "outputs": [
        {
          "output_type": "stream",
          "text": [
            "97.28\n"
          ],
          "name": "stdout"
        }
      ]
    },
    {
      "cell_type": "markdown",
      "metadata": {
        "id": "qZqSnUbdGOt6"
      },
      "source": [
        "Note that the general accuracy is lower for all these three models after class balance but let's try with AOC score to get a more holistic understanding of the results."
      ]
    },
    {
      "cell_type": "code",
      "metadata": {
        "id": "GJk9r59zGzlL",
        "outputId": "9d9f8775-7256-4a50-f174-dcfd0440e265",
        "colab": {
          "base_uri": "https://localhost:8080/"
        }
      },
      "source": [
        "# Import the function to calculate ROC/AUC score\n",
        "from sklearn.metrics import roc_auc_score\n",
        "\n",
        "# Use initial model to predict churn (based on features_test)\n",
        "prediction = model_depth_6_b.predict(features_test)\n",
        "\n",
        "# Calculate ROC/AUC score by comparing target_test with the prediction\n",
        "roc_auc_score(target_test, prediction)"
      ],
      "execution_count": 34,
      "outputs": [
        {
          "output_type": "execute_result",
          "data": {
            "text/plain": [
              "0.944794034686615"
            ]
          },
          "metadata": {
            "tags": []
          },
          "execution_count": 34
        }
      ]
    },
    {
      "cell_type": "code",
      "metadata": {
        "id": "ic0_FbgOGipg",
        "outputId": "e628176e-ac74-409f-9da0-188acadf8013",
        "colab": {
          "base_uri": "https://localhost:8080/"
        }
      },
      "source": [
        "# Import the function to calculate ROC/AUC score\n",
        "from sklearn.metrics import roc_auc_score\n",
        "\n",
        "# Use initial model to predict churn (based on features_test)\n",
        "prediction = model_depth_7_b.predict(features_test)\n",
        "\n",
        "# Calculate ROC/AUC score by comparing target_test with the prediction\n",
        "roc_auc_score(target_test, prediction)"
      ],
      "execution_count": 33,
      "outputs": [
        {
          "output_type": "execute_result",
          "data": {
            "text/plain": [
              "0.9615665563160346"
            ]
          },
          "metadata": {
            "tags": []
          },
          "execution_count": 33
        }
      ]
    },
    {
      "cell_type": "markdown",
      "metadata": {
        "id": "GNb0mPAiH3gi"
      },
      "source": [
        "**HYPERPARAMTER TUNING**"
      ]
    },
    {
      "cell_type": "code",
      "metadata": {
        "id": "9j78YDRHH4GJ",
        "outputId": "cda53c1b-61e3-4dec-f83f-e5c802669fe0",
        "colab": {
          "base_uri": "https://localhost:8080/"
        }
      },
      "source": [
        "# Generate values for maximum depth\n",
        "depth = [i for i in range(5,21,1)]\n",
        "\n",
        "# Generate values for minimum sample size\n",
        "samples = [i for i in range(50,500,50)]\n",
        "\n",
        "# Create the dictionary with parameters to be checked\n",
        "parameters = dict(max_depth=depth, min_samples_leaf=samples)\n",
        "\n",
        "# import the GridSearchCV function\n",
        "from sklearn.model_selection import GridSearchCV\n",
        "\n",
        "# set up parameters: done\n",
        "parameters = dict(max_depth=depth, min_samples_leaf=samples)\n",
        "\n",
        "# initialize the param_search function using the GridSearchCV function, initial model and parameters above\n",
        "param_search = GridSearchCV(model, parameters)\n",
        "\n",
        "# fit the param_search to the training dataset\n",
        "param_search.fit(features_train, target_train)\n",
        "\n",
        "# print the best parameters found\n",
        "print(param_search.best_params_)"
      ],
      "execution_count": 36,
      "outputs": [
        {
          "output_type": "stream",
          "text": [
            "{'max_depth': 5, 'min_samples_leaf': 50}\n"
          ],
          "name": "stdout"
        }
      ]
    },
    {
      "cell_type": "markdown",
      "metadata": {
        "id": "87Quc6mAI0is"
      },
      "source": [
        "Using GridSearch to get the best combo for prediction results."
      ]
    },
    {
      "cell_type": "code",
      "metadata": {
        "id": "ssty72BnJM2l",
        "outputId": "abdea0b7-47ce-4da5-c673-3198969984a0",
        "colab": {
          "base_uri": "https://localhost:8080/"
        }
      },
      "source": [
        "# Import the function for implementing cross validation\n",
        "from sklearn.model_selection import cross_val_score\n",
        "\n",
        "# Use that function to print the cross validation score for 10 folds\n",
        "print(cross_val_score(model,features,target,cv=10))"
      ],
      "execution_count": 37,
      "outputs": [
        {
          "output_type": "stream",
          "text": [
            "[0.98466667 0.988      0.97066667 0.964      0.956      0.982\n",
            " 0.988      0.99133333 1.         1.        ]\n"
          ],
          "name": "stdout"
        }
      ]
    },
    {
      "cell_type": "markdown",
      "metadata": {
        "id": "C0x6GkQXJeys"
      },
      "source": [
        "Using k-fold cross validation to get the best combo for prediction results."
      ]
    },
    {
      "cell_type": "markdown",
      "metadata": {
        "id": "kIC4b2ZWMDCh"
      },
      "source": [
        "Now to train the **best model** based on the observations."
      ]
    },
    {
      "cell_type": "code",
      "metadata": {
        "id": "PeS8iCGwLDzf",
        "outputId": "c3d7cee1-dd84-49eb-8869-bc8fb71f2b5b",
        "colab": {
          "base_uri": "https://localhost:8080/"
        }
      },
      "source": [
        "model_best = DecisionTreeClassifier(max_depth=5,min_samples_leaf=50, random_state=42)\n",
        "# Fit the model\n",
        "model_best.fit(features_train,target_train)\n",
        "\n",
        "# Print the accuracy of the prediction for the training set\n",
        "print(model_best.score(features_train,target_train)*100)\n",
        "\n",
        "# Print the accuracy of the prediction for the test set\n",
        "print(model_best.score(features_test,target_test)*100)"
      ],
      "execution_count": 39,
      "outputs": [
        {
          "output_type": "stream",
          "text": [
            "96.86194328384745\n",
            "96.93333333333334\n"
          ],
          "name": "stdout"
        }
      ]
    },
    {
      "cell_type": "code",
      "metadata": {
        "id": "FL8USLjfLl8a",
        "outputId": "364b29b4-b9ae-4a09-e0d8-732e2b8b624a",
        "colab": {
          "base_uri": "https://localhost:8080/"
        }
      },
      "source": [
        "# Import the function to calculate ROC/AUC score\n",
        "from sklearn.metrics import roc_auc_score\n",
        "\n",
        "# Use initial model to predict churn (based on features_test)\n",
        "prediction = model_best.predict(features_test)\n",
        "\n",
        "# Calculate ROC/AUC score by comparing target_test with the prediction\n",
        "roc_auc_score(target_test, prediction)"
      ],
      "execution_count": 40,
      "outputs": [
        {
          "output_type": "execute_result",
          "data": {
            "text/plain": [
              "0.9515150930446025"
            ]
          },
          "metadata": {
            "tags": []
          },
          "execution_count": 40
        }
      ]
    },
    {
      "cell_type": "code",
      "metadata": {
        "id": "_i6ZQ1YaJlQ7",
        "outputId": "c4554a1e-d814-4093-e574-14b7eabcf5f9",
        "colab": {
          "base_uri": "https://localhost:8080/",
          "height": 557
        }
      },
      "source": [
        "# Calculate feature importances\n",
        "feature_importances = model_best.feature_importances_\n",
        "\n",
        "# Create a list of features\n",
        "feature_list = list(features)\n",
        "\n",
        "# Save the results inside a DataFrame using feature_list as an index\n",
        "relative_importances = pd.DataFrame(index=feature_list, data=feature_importances, columns=[\"importance\"])\n",
        "\n",
        "# Sort values to learn most important features\n",
        "relative_importances.sort_values(by=\"importance\", ascending=False)"
      ],
      "execution_count": 41,
      "outputs": [
        {
          "output_type": "execute_result",
          "data": {
            "text/html": [
              "<div>\n",
              "<style scoped>\n",
              "    .dataframe tbody tr th:only-of-type {\n",
              "        vertical-align: middle;\n",
              "    }\n",
              "\n",
              "    .dataframe tbody tr th {\n",
              "        vertical-align: top;\n",
              "    }\n",
              "\n",
              "    .dataframe thead th {\n",
              "        text-align: right;\n",
              "    }\n",
              "</style>\n",
              "<table border=\"1\" class=\"dataframe\">\n",
              "  <thead>\n",
              "    <tr style=\"text-align: right;\">\n",
              "      <th></th>\n",
              "      <th>importance</th>\n",
              "    </tr>\n",
              "  </thead>\n",
              "  <tbody>\n",
              "    <tr>\n",
              "      <th>satisfaction_level</th>\n",
              "      <td>0.549965</td>\n",
              "    </tr>\n",
              "    <tr>\n",
              "      <th>time_spend_company</th>\n",
              "      <td>0.183034</td>\n",
              "    </tr>\n",
              "    <tr>\n",
              "      <th>last_evaluation</th>\n",
              "      <td>0.135577</td>\n",
              "    </tr>\n",
              "    <tr>\n",
              "      <th>number_project</th>\n",
              "      <td>0.097179</td>\n",
              "    </tr>\n",
              "    <tr>\n",
              "      <th>average_montly_hours</th>\n",
              "      <td>0.033726</td>\n",
              "    </tr>\n",
              "    <tr>\n",
              "      <th>accounting</th>\n",
              "      <td>0.000520</td>\n",
              "    </tr>\n",
              "    <tr>\n",
              "      <th>hr</th>\n",
              "      <td>0.000000</td>\n",
              "    </tr>\n",
              "    <tr>\n",
              "      <th>sales</th>\n",
              "      <td>0.000000</td>\n",
              "    </tr>\n",
              "    <tr>\n",
              "      <th>product_mng</th>\n",
              "      <td>0.000000</td>\n",
              "    </tr>\n",
              "    <tr>\n",
              "      <th>marketing</th>\n",
              "      <td>0.000000</td>\n",
              "    </tr>\n",
              "    <tr>\n",
              "      <th>management</th>\n",
              "      <td>0.000000</td>\n",
              "    </tr>\n",
              "    <tr>\n",
              "      <th>IT</th>\n",
              "      <td>0.000000</td>\n",
              "    </tr>\n",
              "    <tr>\n",
              "      <th>RandD</th>\n",
              "      <td>0.000000</td>\n",
              "    </tr>\n",
              "    <tr>\n",
              "      <th>salary</th>\n",
              "      <td>0.000000</td>\n",
              "    </tr>\n",
              "    <tr>\n",
              "      <th>promotion_last_5years</th>\n",
              "      <td>0.000000</td>\n",
              "    </tr>\n",
              "    <tr>\n",
              "      <th>Work_accident</th>\n",
              "      <td>0.000000</td>\n",
              "    </tr>\n",
              "    <tr>\n",
              "      <th>support</th>\n",
              "      <td>0.000000</td>\n",
              "    </tr>\n",
              "  </tbody>\n",
              "</table>\n",
              "</div>"
            ],
            "text/plain": [
              "                       importance\n",
              "satisfaction_level       0.549965\n",
              "time_spend_company       0.183034\n",
              "last_evaluation          0.135577\n",
              "number_project           0.097179\n",
              "average_montly_hours     0.033726\n",
              "accounting               0.000520\n",
              "hr                       0.000000\n",
              "sales                    0.000000\n",
              "product_mng              0.000000\n",
              "marketing                0.000000\n",
              "management               0.000000\n",
              "IT                       0.000000\n",
              "RandD                    0.000000\n",
              "salary                   0.000000\n",
              "promotion_last_5years    0.000000\n",
              "Work_accident            0.000000\n",
              "support                  0.000000"
            ]
          },
          "metadata": {
            "tags": []
          },
          "execution_count": 41
        }
      ]
    },
    {
      "cell_type": "markdown",
      "metadata": {
        "id": "lpqn6dZXMZtT"
      },
      "source": [
        "So as I pointed out in the correlation matrix at the start of the project,satisfaction level and time spent at the company really are the most important features when it comes to predicting churn. Now to drop unnecessary features. "
      ]
    },
    {
      "cell_type": "code",
      "metadata": {
        "id": "SSG-uvvsNpjn"
      },
      "source": [
        "# select only features with relative importance higher than 1%\n",
        "selected_features = relative_importances[relative_importances.importance>0.01]\n",
        "\n",
        "# create a list from those features: done\n",
        "selected_list = selected_features.index\n",
        "\n",
        "# transform both features_train and features_test components to include only selected features\n",
        "features_train_selected = features_train[selected_list]\n",
        "features_test_selected = features_test[selected_list]"
      ],
      "execution_count": 42,
      "outputs": []
    },
    {
      "cell_type": "code",
      "metadata": {
        "id": "4GyEcUxCNoui",
        "outputId": "24a919f8-1440-45ec-ec90-1caa1f5ff134",
        "colab": {
          "base_uri": "https://localhost:8080/"
        }
      },
      "source": [
        "# Initializing the best model after dropping the features\n",
        "model_bestt = DecisionTreeClassifier(max_depth=5, min_samples_leaf=50, class_weight=\"balanced\", random_state=42)\n",
        "\n",
        "# Fit the model using only selected features from training set: done\n",
        "model_bestt.fit(features_train_selected, target_train)\n",
        "\n",
        "# Make prediction based on selected list of features from test set\n",
        "prediction_best = model_bestt.predict(features_test_selected)\n",
        "\n",
        "# Print the general accuracy of the model_best\n",
        "print(model_bestt.score(features_test_selected, target_test) * 100)\n",
        "\n",
        "# Print the ROC/AUC score of the model predictions\n",
        "print(roc_auc_score(target_test, prediction_best) * 100)"
      ],
      "execution_count": 48,
      "outputs": [
        {
          "output_type": "stream",
          "text": [
            "94.39999999999999\n",
            "94.1927110303247\n"
          ],
          "name": "stdout"
        }
      ]
    },
    {
      "cell_type": "markdown",
      "metadata": {
        "id": "wblNrb2jPSVH"
      },
      "source": [
        "So these are the scores of the best possible model by keeping all the necessary features."
      ]
    }
  ]
}